{
  "nbformat": 4,
  "nbformat_minor": 0,
  "metadata": {
    "kernelspec": {
      "display_name": "Python 3",
      "language": "python",
      "name": "python3"
    },
    "language_info": {
      "codemirror_mode": {
        "name": "ipython",
        "version": 3
      },
      "file_extension": ".py",
      "mimetype": "text/x-python",
      "name": "python",
      "nbconvert_exporter": "python",
      "pygments_lexer": "ipython3",
      "version": "3.7.6"
    },
    "colab": {
      "name": "rain_tomorrow.ipynb",
      "provenance": [],
      "collapsed_sections": []
    }
  },
  "cells": [
    {
      "cell_type": "markdown",
      "metadata": {
        "id": "ReTKuOyULXw5",
        "colab_type": "text"
      },
      "source": [
        "## Data Pre-processing"
      ]
    },
    {
      "cell_type": "markdown",
      "metadata": {
        "id": "5zSFGli-LXw9",
        "colab_type": "text"
      },
      "source": [
        "#### Import relevant modules"
      ]
    },
    {
      "cell_type": "code",
      "metadata": {
        "id": "kdpTzR3WLXxB",
        "colab_type": "code",
        "colab": {}
      },
      "source": [
        "#@title Run on TensorFlow 2.x\n",
        "%tensorflow_version 2.x\n",
        "from __future__ import absolute_import, division, print_function, unicode_literals"
      ],
      "execution_count": 0,
      "outputs": []
    },
    {
      "cell_type": "code",
      "metadata": {
        "id": "od1JPzb3LXxS",
        "colab_type": "code",
        "colab": {}
      },
      "source": [
        "import pandas as pd\n",
        "import numpy as np\n",
        "import tensorflow as tf\n",
        "\n",
        "from matplotlib import pyplot as plt\n",
        "from sklearn.model_selection import train_test_split\n",
        "from sklearn.preprocessing import StandardScaler\n",
        "from sklearn.metrics import accuracy_score,confusion_matrix"
      ],
      "execution_count": 0,
      "outputs": []
    },
    {
      "cell_type": "markdown",
      "metadata": {
        "id": "TM-GtCpkLXxd",
        "colab_type": "text"
      },
      "source": [
        "#### Load the dataset"
      ]
    },
    {
      "cell_type": "code",
      "metadata": {
        "id": "RHE5c6kBLXxe",
        "colab_type": "code",
        "colab": {}
      },
      "source": [
        "#Read csv file into dataframe\n",
        "df = pd.read_csv(\"https://raw.githubusercontent.com/biyanoscar/Assignment5-DPS4/master/weatherAUS.csv\")"
      ],
      "execution_count": 0,
      "outputs": []
    },
    {
      "cell_type": "code",
      "metadata": {
        "id": "NaokOrL2LXxo",
        "colab_type": "code",
        "colab": {}
      },
      "source": [
        "#Show the first 7 rows\n",
        "df.head(7) "
      ],
      "execution_count": 0,
      "outputs": []
    },
    {
      "cell_type": "code",
      "metadata": {
        "id": "8d19DdEzLXx7",
        "colab_type": "code",
        "colab": {}
      },
      "source": [
        "#Show descriptive statistics\n",
        "df.describe(include='all')"
      ],
      "execution_count": 0,
      "outputs": []
    },
    {
      "cell_type": "code",
      "metadata": {
        "id": "VePzEt8wLXxy",
        "colab_type": "code",
        "colab": {}
      },
      "source": [
        "#Show for each column how many null values\n",
        "df.isnull().sum()"
      ],
      "execution_count": 0,
      "outputs": []
    },
    {
      "cell_type": "code",
      "metadata": {
        "id": "BTBlt5tYLXyR",
        "colab_type": "code",
        "outputId": "6242febb-494f-47a8-b45d-b243a9c20718",
        "colab": {
          "base_uri": "https://localhost:8080/",
          "height": 34
        }
      },
      "source": [
        "#Remove missing values and show tuple representing the dimensionality of the DataFrame\n",
        "df.dropna(inplace = True) \n",
        "df.shape"
      ],
      "execution_count": 7,
      "outputs": [
        {
          "output_type": "execute_result",
          "data": {
            "text/plain": [
              "(56420, 24)"
            ]
          },
          "metadata": {
            "tags": []
          },
          "execution_count": 7
        }
      ]
    },
    {
      "cell_type": "code",
      "metadata": {
        "id": "HFDO20RaLXyD",
        "colab_type": "code",
        "colab": {}
      },
      "source": [
        "# Drop Date, Location, Evaporation, Sunshine, Cloud3pm, Cloud9am, and RISK_MM from DataFrame because of we hypothesis it as unneeded value\n",
        "df.drop(labels = ['Date','Location','Evaporation','Sunshine','Cloud3pm','Cloud9am','RISK_MM'],axis = 1,inplace = True)"
      ],
      "execution_count": 0,
      "outputs": []
    },
    {
      "cell_type": "code",
      "metadata": {
        "id": "FmsbRXRoLXyJ",
        "colab_type": "code",
        "colab": {}
      },
      "source": [
        "# Replace Nilai Yes / No\n",
        "df['RainToday'] = df['RainToday'].map({'Yes': 1, 'No': 0})\n",
        "df['RainTomorrow'] = df['RainTomorrow'].map({'Yes': 1, 'No': 0})"
      ],
      "execution_count": 0,
      "outputs": []
    },
    {
      "cell_type": "code",
      "metadata": {
        "id": "8ZwoyUIkLXyY",
        "colab_type": "code",
        "colab": {}
      },
      "source": [
        "# Convert 'WindGustDir','WindDir9am','WindDir3pm' variable into indicator variables.\n",
        "categorical = ['WindGustDir','WindDir9am','WindDir3pm']\n",
        "df_final = pd.get_dummies(df,columns = categorical,drop_first=True)"
      ],
      "execution_count": 0,
      "outputs": []
    },
    {
      "cell_type": "code",
      "metadata": {
        "id": "AZT8LExhOxO_",
        "colab_type": "code",
        "colab": {}
      },
      "source": [
        "# Show the first 5 rows\n",
        "df_final.head()"
      ],
      "execution_count": 0,
      "outputs": []
    },
    {
      "cell_type": "code",
      "metadata": {
        "id": "mKfvhblVLXym",
        "colab_type": "code",
        "outputId": "c8597439-4bcf-477f-d199-badbd88be479",
        "colab": {
          "base_uri": "https://localhost:8080/",
          "height": 69
        }
      },
      "source": [
        "# Show a comparison between the RainTomorrow count and length of DataFrame\n",
        "df_final['RainTomorrow'].value_counts()/len(df_final)"
      ],
      "execution_count": 12,
      "outputs": [
        {
          "output_type": "execute_result",
          "data": {
            "text/plain": [
              "0    0.779741\n",
              "1    0.220259\n",
              "Name: RainTomorrow, dtype: float64"
            ]
          },
          "metadata": {
            "tags": []
          },
          "execution_count": 12
        }
      ]
    },
    {
      "cell_type": "markdown",
      "metadata": {
        "id": "PqhPF2uKLXyv",
        "colab_type": "text"
      },
      "source": [
        "## Separating Your Training and Testing Datasets"
      ]
    },
    {
      "cell_type": "code",
      "metadata": {
        "id": "RD1OWS1ALXyw",
        "colab_type": "code",
        "colab": {}
      },
      "source": [
        "X = df_final.drop(['RainTomorrow'],axis=1).values\n",
        "y = df_final['RainTomorrow'].values"
      ],
      "execution_count": 0,
      "outputs": []
    },
    {
      "cell_type": "code",
      "metadata": {
        "id": "k5VSu67DLXy6",
        "colab_type": "code",
        "colab": {}
      },
      "source": [
        "X1, X_test, y1, y_test = train_test_split(X, y, test_size=0.2, random_state=42)\n",
        "\n",
        "#validation set to evaluate results from the training set\n",
        "X_train, X_val, y_train, y_val = train_test_split(X1, y1, test_size=0.2, random_state=42)"
      ],
      "execution_count": 0,
      "outputs": []
    },
    {
      "cell_type": "markdown",
      "metadata": {
        "id": "PevCO4ozLXzA",
        "colab_type": "text"
      },
      "source": [
        "## Transforming the Data"
      ]
    },
    {
      "cell_type": "code",
      "metadata": {
        "id": "4tWew4O0LXzC",
        "colab_type": "code",
        "colab": {}
      },
      "source": [
        "sc = StandardScaler()\n",
        "X_train = sc.fit_transform(X_train)\n",
        "X_test = sc.transform(X_test)"
      ],
      "execution_count": 0,
      "outputs": []
    },
    {
      "cell_type": "markdown",
      "metadata": {
        "id": "PSfy7GRmLXzJ",
        "colab_type": "text"
      },
      "source": [
        "### Define the plotting function"
      ]
    },
    {
      "cell_type": "code",
      "metadata": {
        "id": "Cb0oPKaBLXzK",
        "colab_type": "code",
        "outputId": "2d9abbaf-df21-4193-be5d-47859f24e377",
        "colab": {
          "base_uri": "https://localhost:8080/",
          "height": 34
        }
      },
      "source": [
        "#@title Define the plotting function\n",
        "def plot_curve(epochs, hist, list_of_metrics):\n",
        "  \"\"\"Plot a curve of one or more classification metrics vs. epoch.\"\"\"  \n",
        "\n",
        "  plt.figure()\n",
        "  plt.xlabel(\"Epoch\")\n",
        "  plt.ylabel(\"Value\")\n",
        "\n",
        "  for m in list_of_metrics:\n",
        "    x = hist[m]\n",
        "    plt.plot(epochs[1:], x[1:], label=m)\n",
        "\n",
        "  plt.legend()\n",
        "\n",
        "print(\"Loaded the plot_curve function.\")"
      ],
      "execution_count": 16,
      "outputs": [
        {
          "output_type": "stream",
          "text": [
            "Loaded the plot_curve function.\n"
          ],
          "name": "stdout"
        }
      ]
    },
    {
      "cell_type": "markdown",
      "metadata": {
        "id": "p-lGjjKxLXzP",
        "colab_type": "text"
      },
      "source": [
        "## Artificial Neural Network"
      ]
    },
    {
      "cell_type": "markdown",
      "metadata": {
        "id": "2rmINVehLXzR",
        "colab_type": "text"
      },
      "source": [
        "#### Define a deep neural net model"
      ]
    },
    {
      "cell_type": "code",
      "metadata": {
        "id": "kIFdhr5-LXzR",
        "colab_type": "code",
        "colab": {}
      },
      "source": [
        "def create_model(my_learning_rate):\n",
        "    output_size = 1\n",
        "    \n",
        "    model = tf.keras.models.Sequential()\n",
        "    \n",
        "    model.add(tf.keras.layers.Dense(11, kernel_initializer = \"uniform\",activation = \"relu\",name='Hidden1'))# 1st hidden layer\n",
        "    \n",
        "    # Define the output layer. sigmoid activation\n",
        "    model.add(tf.keras.layers.Dense(output_size, kernel_initializer = \"uniform\",activation = \"sigmoid\")) \n",
        "    \n",
        "    model.compile(optimizer=tf.keras.optimizers.Adam(lr=my_learning_rate),\n",
        "                loss=\"binary_crossentropy\", \n",
        "                metrics=[\"accuracy\"])\n",
        "    \n",
        "    return model"
      ],
      "execution_count": 0,
      "outputs": []
    },
    {
      "cell_type": "markdown",
      "metadata": {
        "id": "FmnV5VW_LXzX",
        "colab_type": "text"
      },
      "source": [
        "#### Define a training function"
      ]
    },
    {
      "cell_type": "code",
      "metadata": {
        "id": "1eFcoryOLXzY",
        "colab_type": "code",
        "colab": {}
      },
      "source": [
        "def train_model(model, features_arr, label_arr,validation_inputs, validation_targets, epochs, \n",
        "                batch_size=None):\n",
        "    # set an early stopping mechanism\n",
        "    early_stopping = tf.keras.callbacks.EarlyStopping(monitor='val_loss', mode='min', verbose=1, patience=3)\n",
        "\n",
        "    history = model.fit(features_arr, label_arr, batch_size, epochs, \n",
        "                          callbacks=[early_stopping], # early stopping\n",
        "                          validation_data=(validation_inputs, validation_targets), # validation data\n",
        "                          verbose = 2 # making sure we get enough information about the training process\n",
        "                       )\n",
        "    \n",
        "    # To track the progression of training, gather a snapshot\n",
        "    # of the model's metrics at each epoch. \n",
        "    epochs = history.epoch\n",
        "    hist = pd.DataFrame(history.history)\n",
        "\n",
        "    return epochs, hist"
      ],
      "execution_count": 0,
      "outputs": []
    },
    {
      "cell_type": "markdown",
      "metadata": {
        "id": "2wkJXLMLLXze",
        "colab_type": "text"
      },
      "source": [
        "#### Call the functions to build and train a deep neural net"
      ]
    },
    {
      "cell_type": "code",
      "metadata": {
        "id": "8nwz1grqLXzf",
        "colab_type": "code",
        "colab": {}
      },
      "source": [
        "# The following variables are the hyperparameters.\n",
        "learning_rate = 0.002\n",
        "epochs = 35\n",
        "batch_size = 300\n",
        "\n",
        "# Establish the model's topography.\n",
        "my_model = create_model(learning_rate)\n",
        "\n",
        "# Train the model\n",
        "epochs, hist = train_model(my_model, X_train, y_train,X_val, y_val, epochs, \n",
        "                          batch_size)\n",
        "# plot_the_loss_curve(epochs, mse)\n",
        "\n",
        "# Plot a graph of the metric vs. epochs.\n",
        "list_of_metrics_to_plot = ['accuracy']\n",
        "plot_curve(epochs, hist, list_of_metrics_to_plot)\n",
        "\n",
        "print(\"\\n Evaluate the new model against the test set:\")\n",
        "my_model.evaluate(x = X_test, y = y_test, batch_size=batch_size)"
      ],
      "execution_count": 0,
      "outputs": []
    },
    {
      "cell_type": "markdown",
      "metadata": {
        "id": "keZWO86SLXzm",
        "colab_type": "text"
      },
      "source": [
        "## Running Predictions on the Test Set"
      ]
    },
    {
      "cell_type": "code",
      "metadata": {
        "id": "5ed5_Cv1LXzn",
        "colab_type": "code",
        "colab": {}
      },
      "source": [
        "y_pred = my_model.predict(X_test)\n",
        "y_train_pred = my_model.predict_classes(X_train)"
      ],
      "execution_count": 0,
      "outputs": []
    },
    {
      "cell_type": "code",
      "metadata": {
        "scrolled": true,
        "id": "pYShSxoSLXzt",
        "colab_type": "code",
        "colab": {}
      },
      "source": [
        "print('Training Accuracy ---->',accuracy_score(y_train,y_train_pred))\n",
        "print('Testing Accuracy  ---->',accuracy_score(y_test,y_pred.round()))"
      ],
      "execution_count": 0,
      "outputs": []
    },
    {
      "cell_type": "code",
      "metadata": {
        "id": "x4HFhWhmLXz1",
        "colab_type": "code",
        "colab": {}
      },
      "source": [
        "confusion_matrix(y_test,y_pred.round(), labels=[1, 0])"
      ],
      "execution_count": 0,
      "outputs": []
    }
  ]
}